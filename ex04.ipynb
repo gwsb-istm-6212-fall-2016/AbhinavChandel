{
 "cells": [
  {
   "cell_type": "markdown",
   "metadata": {},
   "source": [
    "# Exercise 04 - Due Friday, October 21 at 12pm\n",
    "\n",
    "*Objectives*: Gain experience loading a CSV dataset into a database model you define yourself and using SQL to explore its contents. Explore the data by writing and executing a number of SQL queries using common syntax and functions and describing your findings.\n",
    "\n",
    "*Grading criteria*: The tasks should all be completed, and questions should all be answered with SQL queries in the space provided, unless a text answer is requested. Results should be correct, according to the embedded tests. The notebook itself should be completely reproducible; from start to finish, another person should be able to use the same code to obtain the same results as yours.  Note that you will receive no more than partial credit if you do not add text/markdown cells explaining your thinking at each major step in each problem.\n",
    "\n",
    "*Deadline*: Friday, October 21, 12pm. Submit your notebook to Blackboard and push it to your GitHub repository.\n",
    "\n",
    "## Setup - obtain data and create database\n",
    "\n",
    "The US City Open Data Census has data on [restaurant inspections from all over the country](http://us-city.census.okfn.org/dataset/food-safety).  Let's take a look at data from Albuquerque.  *Note*: metadata and other details for this dataset are available at http://data.cabq.gov/business/foodinspections/.\n",
    "\n",
    "Fyi, to save you a step, I've converted this file into a clean CSV file by using the `dos2unix` command to change its line endings and to switch it to use commas instead of tabs using `csvformat -t inputfile.csv > outputfile.csv`.\n",
    "\n",
    "First we download the dataset:"
   ]
  },
  {
   "cell_type": "code",
   "execution_count": null,
   "metadata": {
    "collapsed": false
   },
   "outputs": [],
   "source": [
    "!wget https://raw.githubusercontent.com/gwsb-istm-6212-fall-2016/syllabus-and-schedule/master/exercises/abq-food-inspections-fy2010.csv"
   ]
  },
  {
   "cell_type": "markdown",
   "metadata": {},
   "source": [
    "## Problem 1 - examine the data (35 points)\n",
    "\n",
    "Use `csvstat` and other tools as you see fit and observe its contents.  Review the metadata definitions linked to above.  Describe what you see:  What do all the columns mean?  Are there null values?  Which columns interest you the most?  Which columns present some complications or questions you would like to ask?"
   ]
  },
  {
   "cell_type": "code",
   "execution_count": null,
   "metadata": {
    "collapsed": true
   },
   "outputs": [],
   "source": [
    "!mv abq-food-inspections-fy2010.csv food.csv"
   ]
  },
  {
   "cell_type": "code",
   "execution_count": null,
   "metadata": {
    "collapsed": true
   },
   "outputs": [],
   "source": [
    "!csvcut -n food.csv"
   ]
  },
  {
   "cell_type": "code",
   "execution_count": null,
   "metadata": {
    "collapsed": true
   },
   "outputs": [],
   "source": [
    "!wc -l food.csv"
   ]
  },
  {
   "cell_type": "code",
   "execution_count": null,
   "metadata": {
    "collapsed": true
   },
   "outputs": [],
   "source": [
    "!csvstat food.csv"
   ]
  },
  {
   "cell_type": "markdown",
   "metadata": {},
   "source": [
    "\n",
    "FACILITY_NAME is the name of the inspected place\n",
    "\n",
    "FACILITY KEY is the unique key associated to the inspected place\n",
    "\n",
    "Site_address is the street of the place\n",
    "\n",
    "City is the city in which it is located\n",
    "\n",
    "State is the state in which it is locate\n",
    "\n",
    "Zip is the zip code in which the place is located\n",
    "\n",
    "Owner_key is the unique id of the owner of the facility\n",
    "\n",
    "Owner_name is the name of the owner of the place\n",
    "\n",
    "Nature_of_business is the type of the the business\n",
    "\n",
    "Street_number,name,type, post_directional gives the address of the facility\n",
    "\n",
    "Phone is the phone number of the facility\n",
    "\n",
    "Program category is the code of the permit of the facility \n",
    "\n",
    "Program category description is the description the permit of the facility \n",
    "\n",
    "Inspected date tells us when it was inspected\n",
    "\n",
    "Serial number tells the ordered serial number of the inspection\n",
    "\n",
    "Action_code tells us the internal code of the action which was taken\n",
    "\n",
    "Action_Desc is the description of the associated action code\n",
    "\n",
    "Result_code is the result of the inspection \n",
    "\n",
    "Result_desc describes the result\n",
    "\n",
    "Violation_code is the internal code of the violation which happened \n",
    "\n",
    "Violation_desc desccibes the violation which happened\n",
    "\n",
    "Inspection_memo is the notes made by the inspector during the inspection\n"
   ]
  },
  {
   "cell_type": "markdown",
   "metadata": {},
   "source": [
    "The columns which highly interest me are zip codes, time stamp, inspection type ,action, violations."
   ]
  },
  {
   "cell_type": "markdown",
   "metadata": {},
   "source": [
    "There are missing values in Site address, nature of business, street number,street name,street type,post directional,phone,program category description,inspection type,violaition code,violation desc,inspection memo\n"
   ]
  },
  {
   "cell_type": "markdown",
   "metadata": {},
   "source": [
    "Certain Questions:\n",
    "1. Who is inspected the most?\n",
    "2. What are the types of innspection or why are they inspected?\n",
    "3. WHere are certain inspections occuring the most?\n",
    "4.What is the time when these inspections are at the peak?\n",
    "5. What are the major violations?"
   ]
  },
  {
   "cell_type": "markdown",
   "metadata": {},
   "source": [
    "Insert a combination of code and text/markdown cells here to review the data and describe what you find."
   ]
  },
  {
   "cell_type": "markdown",
   "metadata": {},
   "source": [
    "## Problem 2 - define a database model and load the data (35 points)\n",
    "\n",
    "Based on what you found above, create and connect to a new database, define a database table in it, and load this dataset into it.  You may use either of the methods for this step you have seen in earlier class notebooks.  You may choose to eliminate variables/columns if they are not relevant or interesting to you - explain your reasoning if you do.  Either way, you should load a majority of the columns present in the source dataset into the database and all of its rows.\n",
    "\n",
    "Once your data has loaded successfully, run a `COUNT(*)` query to verify that all the data has loaded correctly.\n",
    "\n",
    "Insert a combination of code and text/markdown cells here to connect to your database, define your table, load its data, and verify the loaded records."
   ]
  },
  {
   "cell_type": "code",
   "execution_count": null,
   "metadata": {
    "collapsed": true
   },
   "outputs": [],
   "source": [
    "%load_ext sql"
   ]
  },
  {
   "cell_type": "code",
   "execution_count": null,
   "metadata": {
    "collapsed": true
   },
   "outputs": [],
   "source": [
    "!echo 'redspot' | sudo -S service postgresql restart"
   ]
  },
  {
   "cell_type": "code",
   "execution_count": null,
   "metadata": {
    "collapsed": true
   },
   "outputs": [],
   "source": [
    "!createdb -U dbuser ex04"
   ]
  },
  {
   "cell_type": "code",
   "execution_count": null,
   "metadata": {
    "collapsed": true
   },
   "outputs": [],
   "source": [
    "%sql postgresql://dbuser@localhost:5432/ex04"
   ]
  },
  {
   "cell_type": "code",
   "execution_count": null,
   "metadata": {
    "collapsed": true
   },
   "outputs": [],
   "source": [
    "%%sql\n",
    "DROP TABLE IF EXISTS food;\n",
    "CREATE TABLE food (\n",
    "    facility_name CHAR(77),\n",
    "    facility_key INTEGER,\n",
    "    site_address CHAR(35),\n",
    "    city CHAR(15),\n",
    "    state CHAR(2),\n",
    "    zip_address CHAR(20),\n",
    "    owner_key INTEGER,\n",
    "    owner_name CHAR(82),\n",
    "    business_type CHAR(25),\n",
    "    street_number CHAR(10),\n",
    "    steet_name CHAR(24),\n",
    "    street_type CHAR(4),\n",
    "    direction CHAR(2),\n",
    "    phone BIGINT,\n",
    "    program_category CHAR(4),\n",
    "    program_des CHAR(40),\n",
    "    inspection_date TIMESTAMP,\n",
    "    inspection_type INTEGER,\n",
    "    inspection_des CHAR(32),\n",
    "    serial CHAR(9),\n",
    "    action_code CHAR(2),\n",
    "    action_des CHAR (34),\n",
    "    result_code CHAR(2),\n",
    "    result_des CHAR(37),\n",
    "    violation_code char(10),\n",
    "    violation_des CHAR(50),\n",
    "    inspection_memo INTEGER\n",
    "    )\n"
   ]
  },
  {
   "cell_type": "code",
   "execution_count": null,
   "metadata": {
    "collapsed": true
   },
   "outputs": [],
   "source": [
    "%%sql\n",
    "COPY food FROM '/home/jovyan/work/food.csv'\n",
    "CSV\n",
    "HEADER\n",
    "QUOTE '\"'\n",
    "DELIMITER ',';"
   ]
  },
  {
   "cell_type": "code",
   "execution_count": null,
   "metadata": {
    "collapsed": true
   },
   "outputs": [],
   "source": [
    "%%sql\n",
    "SELECT count(*) FROM food"
   ]
  },
  {
   "cell_type": "markdown",
   "metadata": {},
   "source": [
    "## Problem 3 - explore your data (30 points)\n",
    "\n",
    "Now that the data is loaded, ask some questions of it!  Identify key variables of interest and note their ranges along with other useful descriptive statistics.  Choose and define a few lines of inquiry, execute queries for each, and describe what you find in your result sets.  Use any query techniques we've seen in class, including aggregate functions, transformations, subqueries, or others as appropriate. \n",
    "\n",
    "If you find interesting patterns, adding plots to your exploration would be useful.\n",
    "\n",
    "Insert a combination of code and text/markdown cells here to explore your data."
   ]
  },
  {
   "cell_type": "code",
   "execution_count": null,
   "metadata": {
    "collapsed": true
   },
   "outputs": [],
   "source": [
    "%%sql\n",
    "SELECT sub.* FROM\n",
    " (\n",
    "  SELECT facility_name,count(*) As count FROM food\n",
    "    Group by facility_name\n",
    "    )sub\n",
    "ORDER BY count DESC\n",
    "LIMIT 5"
   ]
  },
  {
   "cell_type": "code",
   "execution_count": null,
   "metadata": {
    "collapsed": true
   },
   "outputs": [],
   "source": [
    "%%sql\n",
    "SELECT sub.* FROM\n",
    " (\n",
    "  SELECT zip_address,count(*) As count FROM food\n",
    "    Group by zip_address\n",
    "    )sub\n",
    "ORDER BY count DESC\n",
    "LIMIT 5"
   ]
  },
  {
   "cell_type": "markdown",
   "metadata": {},
   "source": [
    "These are the top 5 areas and facilities which are inspected"
   ]
  },
  {
   "cell_type": "code",
   "execution_count": null,
   "metadata": {
    "collapsed": true
   },
   "outputs": [],
   "source": [
    "%%sql\n",
    "\n",
    "SELECT inspection_des,count(*) as count FROM food\n",
    "group by inspection_des\n",
    "order by count desc"
   ]
  },
  {
   "cell_type": "code",
   "execution_count": null,
   "metadata": {
    "collapsed": true
   },
   "outputs": [],
   "source": [
    "%%sql\n",
    "select action_code FROM food\n",
    "where inspection_des='EMERGENCY RESPONSE'"
   ]
  },
  {
   "cell_type": "markdown",
   "metadata": {},
   "source": [
    "11% of all the inspections are emergency response.We go on to check further.However most of them has no action taken as the inspector could not check it indicating a possible lack of inspector. On this assumption going forward."
   ]
  },
  {
   "cell_type": "code",
   "execution_count": null,
   "metadata": {
    "collapsed": true
   },
   "outputs": [],
   "source": [
    "%%sql \n",
    "CREATE TABLE T1 AS\n",
    "(\n",
    "select zip_address,inspection_date FROM food\n",
    "where inspection_des='EMERGENCY RESPONSE'\n",
    ")"
   ]
  },
  {
   "cell_type": "code",
   "execution_count": null,
   "metadata": {
    "collapsed": true
   },
   "outputs": [],
   "source": [
    "%%sql\n",
    "\n",
    "select * from T1"
   ]
  },
  {
   "cell_type": "code",
   "execution_count": null,
   "metadata": {
    "collapsed": true
   },
   "outputs": [],
   "source": [
    "%%sql\n",
    "SELECT sub.* FROM\n",
    " (\n",
    "  SELECT zip_address,count(*) As count FROM T1\n",
    "    Group by zip_address\n",
    "    )sub\n",
    "ORDER BY count DESC\n",
    "LIMIT 5"
   ]
  },
  {
   "cell_type": "code",
   "execution_count": null,
   "metadata": {
    "collapsed": true
   },
   "outputs": [],
   "source": [
    "%%sql\n",
    "SELECT sub.* FROM\n",
    " (\n",
    "  SELECT inspection_date,count(*) As count FROM T1\n",
    "    Group by inspection_date\n",
    "    )sub\n",
    "ORDER BY count DESC\n",
    "LIMIT 5"
   ]
  },
  {
   "cell_type": "markdown",
   "metadata": {},
   "source": [
    "The above shows thae areas which require deployment of inspectors and the month of september has the most demand of inspectors for emergency response indicating a high alert."
   ]
  },
  {
   "cell_type": "markdown",
   "metadata": {},
   "source": [
    "## Bonus (10 points)\n",
    "\n",
    "We have seen a few simple techniques for normalizing data in class.  Choose a column or set of columns that might be redundant and normalize them out to another table:\n",
    "\n",
    "* Identify the columns to normalize in the source data table\n",
    "* Create one or more new tables to hold the normalized records\n",
    "* Extract data into the new tables\n",
    "* Re-insert the new foreign key references from the new table into the source table"
   ]
  },
  {
   "cell_type": "code",
   "execution_count": null,
   "metadata": {
    "collapsed": true
   },
   "outputs": [],
   "source": []
  }
 ],
 "metadata": {
  "anaconda-cloud": {},
  "kernelspec": {
   "display_name": "Python 3",
   "language": "python",
   "name": "python3"
  },
  "language_info": {
   "codemirror_mode": {
    "name": "ipython",
    "version": 3
   },
   "file_extension": ".py",
   "mimetype": "text/x-python",
   "name": "python",
   "nbconvert_exporter": "python",
   "pygments_lexer": "ipython3",
   "version": "3.5.2"
  }
 },
 "nbformat": 4,
 "nbformat_minor": 1
}
