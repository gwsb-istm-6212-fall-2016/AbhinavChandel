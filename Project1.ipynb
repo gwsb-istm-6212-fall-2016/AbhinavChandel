{
 "cells": [
  {
   "cell_type": "code",
   "execution_count": 1,
   "metadata": {
    "collapsed": false
   },
   "outputs": [
    {
     "name": "stdout",
     "output_type": "stream",
     "text": [
      "--2016-09-23 07:13:53--  https://raw.githubusercontent.com/gwsb-istm-6212-fall-2016/syllabus-and-schedule/master/projects/project-01/women.txt\n",
      "Resolving raw.githubusercontent.com (raw.githubusercontent.com)... 151.101.32.133\n",
      "Connecting to raw.githubusercontent.com (raw.githubusercontent.com)|151.101.32.133|:443... connected.\n",
      "HTTP request sent, awaiting response... 200 OK\n",
      "Length: 1053440 (1.0M) [text/plain]\n",
      "Saving to: ‘women.txt’\n",
      "\n",
      "women.txt           100%[===================>]   1.00M  4.96MB/s    in 0.2s    \n",
      "\n",
      "2016-09-23 07:13:53 (4.96 MB/s) - ‘women.txt’ saved [1053440/1053440]\n",
      "\n"
     ]
    }
   ],
   "source": [
    "!wget https://raw.githubusercontent.com/gwsb-istm-6212-fall-2016/syllabus-and-schedule/master/projects/project-01/women.txt"
   ]
  },
  {
   "cell_type": "code",
   "execution_count": 2,
   "metadata": {
    "collapsed": false
   },
   "outputs": [
    {
     "name": "stdout",
     "output_type": "stream",
     "text": [
      "1347\n",
      "457\n",
      "683\n",
      "643\n"
     ]
    }
   ],
   "source": [
    "!grep -wc \"Jo\"  women.txt        #This is not considering the lower case mentions so the next line consider all the mentions\n",
    "!grep -wc \"Beth\"  women.txt\n",
    "!grep -wc \"Meg\"  women.txt\n",
    "!grep -wc \"Amy\"  women.txt\n",
    "#Problem 1\n",
    "#Part A"
   ]
  },
  {
   "cell_type": "code",
   "execution_count": 3,
   "metadata": {
    "collapsed": true
   },
   "outputs": [],
   "source": [
    "!cat women.txt | tr '[:upper:]' '[:lower:]' | grep -w \"Jo\\| Beth \\|Meg\\|Amy\" | sort | uniq -c | sort -rn"
   ]
  },
  {
   "cell_type": "code",
   "execution_count": 4,
   "metadata": {
    "collapsed": false
   },
   "outputs": [
    {
     "name": "stdout",
     "output_type": "stream",
     "text": [
      "--2016-09-23 07:13:54--  https://raw.githubusercontent.com/gwsb-istm-6212-fall-2016/syllabus-and-schedule/master/projects/project-01/romeo.txt\n",
      "Resolving raw.githubusercontent.com (raw.githubusercontent.com)... 151.101.32.133\n",
      "Connecting to raw.githubusercontent.com (raw.githubusercontent.com)|151.101.32.133|:443... connected.\n",
      "HTTP request sent, awaiting response... 200 OK\n",
      "Length: 178983 (175K) [text/plain]\n",
      "Saving to: ‘romeo.txt’\n",
      "\n",
      "romeo.txt           100%[===================>] 174.79K  --.-KB/s    in 0.06s   \n",
      "\n",
      "2016-09-23 07:13:54 (2.83 MB/s) - ‘romeo.txt’ saved [178983/178983]\n",
      "\n",
      "--2016-09-23 07:13:54--  http://for/\n",
      "Resolving for (for)... failed: Name or service not known.\n",
      "wget: unable to resolve host address ‘for’\n",
      "--2016-09-23 07:14:09--  http://this/\n",
      "Resolving this (this)... failed: Name or service not known.\n",
      "wget: unable to resolve host address ‘this’\n",
      "--2016-09-23 07:14:19--  http://part/\n",
      "Resolving part (part)... failed: Name or service not known.\n",
      "wget: unable to resolve host address ‘part’\n",
      "FINISHED --2016-09-23 07:14:29--\n",
      "Total wall clock time: 35s\n",
      "Downloaded: 1 files, 175K in 0.06s (2.83 MB/s)\n"
     ]
    }
   ],
   "source": [
    "!wget https://raw.githubusercontent.com/gwsb-istm-6212-fall-2016/syllabus-and-schedule/master/projects/project-01/romeo.txt for this part"
   ]
  },
  {
   "cell_type": "code",
   "execution_count": 5,
   "metadata": {
    "collapsed": false
   },
   "outputs": [
    {
     "name": "stdout",
     "output_type": "stream",
     "text": [
      "cat: 'Romeo\\Juliet': No such file or directory\r\n",
      "﻿The Project Gutenberg EBook of Romeo and Juliet, by William Shakespeare\r",
      "\r\n",
      "\r",
      "\r\n",
      "This eBook is for the use of anyone anywhere at no cost and with\r",
      "\r\n",
      "almost no restrictions whatsoever.  You may copy it, give it away or\r",
      "\r\n",
      "re-use it under the terms of the Project Gutenberg License included\r",
      "\r\n",
      "with this eBook or online at www.gutenberg.org/license\r",
      "\r\n",
      "\r",
      "\r\n",
      "\r",
      "\r\n",
      "Title: Romeo and Juliet\r",
      "\r\n",
      "\r",
      "\r\n",
      "Author: William Shakespeare\r",
      "\r\n",
      "\r",
      "\r\n",
      "Posting Date: May 25, 2012 [EBook #1112]\r",
      "\r\n",
      "Release Date: November, 1997  [Etext #1112]\r",
      "\r\n",
      "\r",
      "\r\n",
      "Language: English\r",
      "\r\n",
      "\r",
      "\r\n",
      "\r",
      "\r\n",
      "*** START OF THIS PROJECT GUTENBERG EBOOK ROMEO AND JULIET ***\r",
      "\r\n",
      "\r",
      "\r\n",
      "\r",
      "\r\n",
      "\r",
      "\r\n",
      "\r",
      "\r\n",
      "\r",
      "\r\n",
      "\r",
      "\r\n",
      "\r",
      "\r\n",
      "\r",
      "\r\n",
      "\r",
      "\r\n",
      "\r",
      "\r\n",
      "\r",
      "\r\n",
      "\r",
      "\r\n",
      "\r",
      "\r\n",
      "*Project Gutenberg is proud to cooperate with The World Library*\r",
      "\r\n",
      "in the presentation of The Complete Works of William Shakespeare\r",
      "\r\n",
      "for your reading for education and entertainment.  HOWEVER, THIS\r",
      "\r\n",
      "IS NEITHER SHAREWARE NOR PUBLIC DOMAIN. . .AND UNDER THE LIBRARY\r",
      "\r\n",
      "OF THE FUTURE CONDITIONS OF THIS PRESENTATION. . .NO CHARGES MAY\r",
      "\r\n",
      "BE MADE FOR *ANY* ACCESS TO THIS MATERIAL.  YOU ARE ENCOURAGED!!\r",
      "\r\n",
      "TO GIVE IT AWAY TO ANYONE YOU LIKE, BUT NO CHARGES ARE ALLOWED!!\r",
      "\r\n",
      "\r",
      "\r\n",
      "\r",
      "\r\n",
      "\r",
      "\r\n",
      "\r",
      "\r\n",
      "The Complete Works of William Shakespeare\r",
      "\r\n",
      "\r",
      "\r\n",
      "The Tragedy of Romeo and Juliet\r",
      "\r\n",
      "\r",
      "\r\n",
      "The Library of the Future Complete Works of William Shakespeare\r",
      "\r\n",
      "Library of the Future is a TradeMark (TM) of World Library Inc.\r",
      "\r\n",
      "\r",
      "\r\n",
      "\r",
      "\r\n",
      "<<THIS ELECTRONIC VERSION OF THE COMPLETE WORKS OF WILLIAM\r",
      "\r\n",
      "SHAKESPEARE IS COPYRIGHT 1990-1993 BY WORLD LIBRARY, INC., AND IS\r",
      "\r\n",
      "PROVIDED BY PROJECT GUTENBERG ETEXT OF CARNEGIE MELLON UNIVERSITY\r",
      "\r\n",
      "WITH PERMISSION.  ELECTRONIC AND MACHINE READABLE COPIES MAY BE\r",
      "\r\n",
      "DISTRIBUTED SO LONG AS SUCH COPIES (1) ARE FOR YOUR OR OTHERS\r",
      "\r\n",
      "PERSONAL USE ONLY, AND (2) ARE NOT DISTRIBUTED OR USED\r",
      "\r\n",
      "COMMERCIALLY.  PROHIBITED COMMERCIAL DISTRIBUTION INCLUDES BY ANY\r",
      "\r\n",
      "SERVICE THAT CHARGES FOR DOWNLOAD TIME OR FOR MEMBERSHIP.>>\r",
      "\r\n",
      "\r",
      "\r\n",
      "\r",
      "\r\n",
      "\r",
      "\r\n",
      "\r",
      "\r\n",
      "1595\r",
      "\r\n",
      "\r",
      "\r\n",
      "THE TRAGEDY OF ROMEO AND JULIET\r",
      "\r\n",
      "\r",
      "\r\n",
      "by William Shakespeare\r",
      "\r\n",
      "\r",
      "\r\n",
      "\r",
      "\r\n",
      "\r",
      "\r\n",
      "Dramatis Personae\r",
      "\r\n",
      "\r",
      "\r\n",
      "  Chorus.\r",
      "\r\n",
      "\r",
      "\r\n",
      "\r",
      "\r\n",
      "  Escalus, Prince of Verona.\r",
      "\r\n",
      "\r",
      "\r\n",
      "  Paris, a young Count, kinsman to the Prince.\r",
      "\r\n",
      "\r",
      "\r\n",
      "  Montague, heads of two houses at variance with each other.\r",
      "\r\n",
      "\r",
      "\r\n",
      "  Capulet, heads of two houses at variance with each other.\r",
      "\r\n",
      "\r",
      "\r\n",
      "  An old Man, of the Capulet family.\r",
      "\r\n",
      "\r",
      "\r\n",
      "  Romeo, son to Montague.\r",
      "\r\n",
      "\r",
      "\r\n",
      "  Tybalt, nephew to Lady Capulet.\r",
      "\r\n",
      "\r",
      "\r\n",
      "  Mercutio, kinsman to the Prince and friend to Romeo.\r",
      "\r\n",
      "\r",
      "\r\n",
      "  Benvolio, nephew to Montague, and friend to Romeo\r",
      "\r\n",
      "\r",
      "\r\n",
      "  Tybalt, nephew to Lady Capulet.\r",
      "\r\n",
      "\r",
      "\r\n",
      "  Friar Laurence, Franciscan.\r",
      "\r\n",
      "\r",
      "\r\n",
      "  Friar John, Franciscan.\r",
      "\r\n",
      "\r",
      "\r\n",
      "cat: write error: Broken pipe\r\n"
     ]
    }
   ],
   "source": [
    "!cat \"Romeo\\Juliet\" romeo.txt | head -100 #Part B"
   ]
  },
  {
   "cell_type": "code",
   "execution_count": 6,
   "metadata": {
    "collapsed": false
   },
   "outputs": [
    {
     "name": "stdout",
     "output_type": "stream",
     "text": [
      "163\n",
      "117\n"
     ]
    }
   ],
   "source": [
    "!grep -wc \"Rom\\.\" romeo.txt   #From above Every Speaking line starts with a Rom. and a Jul.\n",
    "!grep -wc \"Jul\\.\" romeo.txt"
   ]
  },
  {
   "cell_type": "code",
   "execution_count": 7,
   "metadata": {
    "collapsed": false
   },
   "outputs": [
    {
     "name": "stdout",
     "output_type": "stream",
     "text": [
      "--2016-09-23 07:14:30--  https://raw.githubusercontent.com/gwsb-istm-6212-fall-2016/syllabus-and-schedule/master/projects/project-01/2016q1.csv.zip\n",
      "Resolving raw.githubusercontent.com (raw.githubusercontent.com)... 151.101.32.133\n",
      "Connecting to raw.githubusercontent.com (raw.githubusercontent.com)|151.101.32.133|:443... connected.\n",
      "HTTP request sent, awaiting response... 200 OK\n",
      "Length: 10643003 (10M) [application/octet-stream]\n",
      "Saving to: ‘2016q1.csv.zip’\n",
      "\n",
      "2016q1.csv.zip      100%[===================>]  10.15M  5.81MB/s    in 1.7s    \n",
      "\n",
      "2016-09-23 07:14:32 (5.81 MB/s) - ‘2016q1.csv.zip’ saved [10643003/10643003]\n",
      "\n"
     ]
    }
   ],
   "source": [
    "!wget https://raw.githubusercontent.com/gwsb-istm-6212-fall-2016/syllabus-and-schedule/master/projects/project-01/2016q1.csv.zip\n",
    "#Problem 2    "
   ]
  },
  {
   "cell_type": "code",
   "execution_count": 8,
   "metadata": {
    "collapsed": true
   },
   "outputs": [],
   "source": [
    "!mkdir CSV #PartA"
   ]
  },
  {
   "cell_type": "code",
   "execution_count": 9,
   "metadata": {
    "collapsed": false
   },
   "outputs": [],
   "source": [
    "import os\n",
    "os.rename(\"2016q1.csv.zip\",\"./CSV/station.zip\")"
   ]
  },
  {
   "cell_type": "code",
   "execution_count": 10,
   "metadata": {
    "collapsed": false
   },
   "outputs": [],
   "source": [
    "os.chdir(\"./CSV\")"
   ]
  },
  {
   "cell_type": "code",
   "execution_count": 11,
   "metadata": {
    "collapsed": false
   },
   "outputs": [
    {
     "name": "stdout",
     "output_type": "stream",
     "text": [
      "/home/abhinavchandel/Project1/CSV\r\n"
     ]
    }
   ],
   "source": [
    "!pwd"
   ]
  },
  {
   "cell_type": "code",
   "execution_count": 12,
   "metadata": {
    "collapsed": false
   },
   "outputs": [
    {
     "name": "stdout",
     "output_type": "stream",
     "text": [
      "Archive:  station.zip\n",
      "  inflating: 2016q1.csv              \n"
     ]
    }
   ],
   "source": [
    "!unzip station.zip"
   ]
  },
  {
   "cell_type": "code",
   "execution_count": 13,
   "metadata": {
    "collapsed": false
   },
   "outputs": [],
   "source": [
    "os.rename(\"2016q1.csv\",\"./station.csv\")"
   ]
  },
  {
   "cell_type": "code",
   "execution_count": 14,
   "metadata": {
    "collapsed": false
   },
   "outputs": [
    {
     "name": "stdout",
     "output_type": "stream",
     "text": [
      "  1: Duration (ms)\r\n",
      "  2: Start date\r\n",
      "  3: End date\r\n",
      "  4: Start station number\r\n",
      "  5: Start station\r\n",
      "  6: End station number\r\n",
      "  7: End station\r\n",
      "  8: Bike number\r\n",
      "  9: Member Type\r\n"
     ]
    }
   ],
   "source": [
    "!csvcut -n station.csv"
   ]
  },
  {
   "cell_type": "code",
   "execution_count": 15,
   "metadata": {
    "collapsed": false
   },
   "outputs": [
    {
     "name": "stdout",
     "output_type": "stream",
     "text": [
      "|----------------+-----------------+-----------------+----------------------+--------------------------------+--------------------+-------------------------------+-------------+--------------|\r\n",
      "|  Duration (ms) | Start date      | End date        | Start station number | Start station                  | End station number | End station                   | Bike number | Member Type  |\r\n",
      "|----------------+-----------------+-----------------+----------------------+--------------------------------+--------------------+-------------------------------+-------------+--------------|\r\n",
      "|  301295        | 3/31/2016 23:59 | 4/1/2016 0:04   | 31280                | 11th & S St NW                 | 31506              | 1st & Rhode Island Ave NW     | W00022      | Registered   |\r\n",
      "|  557887        | 3/31/2016 23:59 | 4/1/2016 0:08   | 31275                | New Hampshire Ave & 24th St NW | 31114              | 18th St & Wyoming Ave NW      | W01294      | Registered   |\r\n",
      "|  555944        | 3/31/2016 23:59 | 4/1/2016 0:08   | 31101                | 14th & V St NW                 | 31221              | 18th & M St NW                | W01416      | Registered   |\r\n",
      "|  766916        | 3/31/2016 23:57 | 4/1/2016 0:09   | 31226                | 34th St & Wisconsin Ave NW     | 31214              | 17th & Corcoran St NW         | W01090      | Registered   |\r\n",
      "|  139656        | 3/31/2016 23:57 | 3/31/2016 23:59 | 31011                | 23rd & Crystal Dr              | 31009              | 27th & Crystal Dr             | W21934      | Registered   |\r\n",
      "|  967713        | 3/31/2016 23:57 | 4/1/2016 0:13   | 31266                | 11th & M St NW                 | 31600              | 5th & K St NW                 | W20562      | Casual       |\r\n",
      "|  534836        | 3/31/2016 23:57 | 4/1/2016 0:06   | 31222                | New York Ave & 15th St NW      | 31278              | 18th & R St NW                | W20222      | Registered   |\r\n",
      "|  243864        | 3/31/2016 23:56 | 4/1/2016 0:00   | 31228                | 8th & H St NW                  | 31600              | 5th & K St NW                 | W20291      | Registered   |\r\n",
      "|  372524        | 3/31/2016 23:55 | 4/1/2016 0:01   | 31113                | Columbia Rd & Belmont St NW    | 31234              | 20th & O St NW / Dupont South | W20590      | Registered   |\r\n",
      "|----------------+-----------------+-----------------+----------------------+--------------------------------+--------------------+-------------------------------+-------------+--------------|\r\n"
     ]
    }
   ],
   "source": [
    "!head station.csv |csvlook"
   ]
  },
  {
   "cell_type": "code",
   "execution_count": 16,
   "metadata": {
    "collapsed": false
   },
   "outputs": [
    {
     "name": "stdout",
     "output_type": "stream",
     "text": [
      "Start station\r\n",
      "11th & S St NW\r\n",
      "New Hampshire Ave & 24th St NW\r\n",
      "14th & V St NW\r\n",
      "34th St & Wisconsin Ave NW\r\n",
      "23rd & Crystal Dr\r\n",
      "11th & M St NW\r\n",
      "New York Ave & 15th St NW\r\n",
      "8th & H St NW\r\n",
      "Columbia Rd & Belmont St NW\r\n"
     ]
    }
   ],
   "source": [
    "!csvcut -c5 station.csv | head -10"
   ]
  },
  {
   "cell_type": "code",
   "execution_count": 17,
   "metadata": {
    "collapsed": false
   },
   "outputs": [
    {
     "name": "stdout",
     "output_type": "stream",
     "text": [
      "  13120 Columbus Circle / Union Station\r\n",
      "   9560 Massachusetts Ave & Dupont Circle NW\r\n",
      "   9388 Lincoln Memorial\r\n",
      "   8138 Jefferson Dr & 14th St SW\r\n",
      "   7479 Thomas Circle\r\n",
      "   7401 15th & P St NW\r\n",
      "   6568 14th & V St NW\r\n",
      "   6491 New Hampshire Ave & T St NW\r\n",
      "   5649 Eastern Market Metro / Pennsylvania Ave & 7th St SE\r\n",
      "   5514 17th & Corcoran St NW\r\n"
     ]
    }
   ],
   "source": [
    "!csvcut -c5 station.csv | sort | uniq -c | sort -rn |head -10"
   ]
  },
  {
   "cell_type": "code",
   "execution_count": 18,
   "metadata": {
    "collapsed": false
   },
   "outputs": [
    {
     "name": "stdout",
     "output_type": "stream",
     "text": [
      "  13880 Columbus Circle / Union Station\r\n",
      "  11183 Massachusetts Ave & Dupont Circle NW\r\n",
      "   9419 Lincoln Memorial\r\n",
      "   8975 Jefferson Dr & 14th St SW\r\n",
      "   8092 15th & P St NW\r\n",
      "   7267 14th & V St NW\r\n",
      "   6997 Thomas Circle\r\n",
      "   6245 New Hampshire Ave & T St NW\r\n",
      "   5761 5th & K St NW\r\n",
      "   5651 17th & Corcoran St NW\r\n"
     ]
    }
   ],
   "source": [
    "!csvcut -c7 station.csv | sort | uniq -c | sort -rn | head -10"
   ]
  },
  {
   "cell_type": "code",
   "execution_count": 19,
   "metadata": {
    "collapsed": false
   },
   "outputs": [
    {
     "name": "stdout",
     "output_type": "stream",
     "text": [
      "sort: |------------------------------------------+---------|\r\n",
      "write failed: 'standard output': Broken pipe\r\n",
      "|       17 Columbus Circle / Union Station | W22227  |\r\n",
      "|------------------------------------------+---------|\r\n",
      "|       16 Columbus Circle / Union Station | W21867  |\r\n",
      "|       16 Columbus Circle / Union Station | W21641  |\r\n",
      "sort: write error|       16 Columbus Circle / Union Station | W21538  |\r\n",
      "\r\n",
      "|       16 Columbus Circle / Union Station | W21239  |\r\n",
      "|       16 Columbus Circle / Union Station | W20540  |\r\n",
      "|       16 Columbus Circle / Union Station | W00714  |\r\n",
      "|       15 Columbus Circle / Union Station | W22080  |\r\n",
      "|       15 Columbus Circle / Union Station | W21450  |\r\n",
      "|       15 Columbus Circle / Union Station | W21076  |\r\n",
      "|------------------------------------------+---------|\r\n"
     ]
    }
   ],
   "source": [
    "!csvcut -c5,8 station.csv| csvgrep -c1 -m \"Columbus Circle / Union Station\" | csvsort -c2 | uniq -c| sort -rn |  head -10 | csvlook\n",
    "#PartB"
   ]
  },
  {
   "cell_type": "code",
   "execution_count": 20,
   "metadata": {
    "collapsed": false
   },
   "outputs": [
    {
     "name": "stdout",
     "output_type": "stream",
     "text": [
      "|------------------------------------------+---------|\r\n",
      "|       18 Columbus Circle / Union Station | W00485  |\r\n",
      "|------------------------------------------+---------|\r\n",
      "|       17 Columbus Circle / Union Station | W22227  |\r\n",
      "|       16 Columbus Circle / Union Station | W22099  |\r\n",
      "|       16 Columbus Circle / Union Station | W22080  |\r\n",
      "|       16 Columbus Circle / Union Station | W21239  |\r\n",
      "|       16 Columbus Circle / Union Station | W21076  |\r\n",
      "|       16 Columbus Circle / Union Station | W20425  |\r\n",
      "|       16 Columbus Circle / Union Station | W00714  |\r\n",
      "|       15 Columbus Circle / Union Station | W21997  |\r\n",
      "|       15 Columbus Circle / Union Station | W21867  |\r\n",
      "|------------------------------------------+---------|\r\n",
      "sort: write failed: 'standard output': Broken pipe\r\n",
      "sort: write error\r\n"
     ]
    }
   ],
   "source": [
    "!csvcut -c7,8 station.csv| csvgrep -c1 -m \"Columbus Circle / Union Station\" | csvsort -c2 | uniq -c| sort -rn |  head -10 | csvlook\n"
   ]
  },
  {
   "cell_type": "code",
   "execution_count": 21,
   "metadata": {
    "collapsed": true
   },
   "outputs": [],
   "source": [
    "#End of Problem 2"
   ]
  },
  {
   "cell_type": "code",
   "execution_count": 22,
   "metadata": {
    "collapsed": false
   },
   "outputs": [
    {
     "name": "stdout",
     "output_type": "stream",
     "text": [
      "/home/abhinavchandel/Project1/CSV\r\n"
     ]
    }
   ],
   "source": [
    " !pwd"
   ]
  },
  {
   "cell_type": "code",
   "execution_count": 23,
   "metadata": {
    "collapsed": false
   },
   "outputs": [
    {
     "name": "stdout",
     "output_type": "stream",
     "text": [
      "--2016-09-23 07:16:18--  https://raw.githubusercontent.com/gwsb-istm-6212-fall-2016/syllabus-and-schedule/master/projects/project-01/simplefilter.py\n",
      "Resolving raw.githubusercontent.com (raw.githubusercontent.com)... 151.101.32.133\n",
      "Connecting to raw.githubusercontent.com (raw.githubusercontent.com)|151.101.32.133|:443... connected.\n",
      "HTTP request sent, awaiting response... 200 OK\n",
      "Length: 208 [text/plain]\n",
      "Saving to: ‘simplefilter.py’\n",
      "\n",
      "simplefilter.py     100%[===================>]     208  --.-KB/s    in 0s      \n",
      "\n",
      "2016-09-23 07:16:18 (42.5 MB/s) - ‘simplefilter.py’ saved [208/208]\n",
      "\n"
     ]
    }
   ],
   "source": [
    "!wget https://raw.githubusercontent.com/gwsb-istm-6212-fall-2016/syllabus-and-schedule/master/projects/project-01/simplefilter.py"
   ]
  },
  {
   "cell_type": "code",
   "execution_count": 24,
   "metadata": {
    "collapsed": false
   },
   "outputs": [],
   "source": [
    "os.chdir(\"..\") #Problem3"
   ]
  },
  {
   "cell_type": "code",
   "execution_count": 25,
   "metadata": {
    "collapsed": false
   },
   "outputs": [
    {
     "name": "stdout",
     "output_type": "stream",
     "text": [
      "   8155 and\n",
      "   7689 the\n",
      "   5152 to\n",
      "   3523 of\n",
      "   3245 her\n",
      "   2774 it\n",
      "   2503 in\n",
      "   2447 you\n",
      "   2343 she\n",
      "   2233 for\n",
      "sort: write failed: 'standard output': Broken pipe\n",
      "sort: write error\n"
     ]
    }
   ],
   "source": [
    "!cat women.txt | tr '[:upper:]' '[:lower:]' | grep -oE '\\w{{2,}}'| sort | uniq -c | sort -rn | head -10\n",
    "#General Statement"
   ]
  },
  {
   "cell_type": "code",
   "execution_count": 26,
   "metadata": {
    "collapsed": false
   },
   "outputs": [
    {
     "name": "stdout",
     "output_type": "stream",
     "text": [
      "   8155 and\r\n",
      "   7696 the\r\n",
      "   5152 to\r\n",
      "   4531 a\r\n",
      "   4003 i\r\n",
      "   3523 of\r\n",
      "   3245 her\r\n",
      "   2774 it\r\n",
      "   2503 in\r\n",
      "   2447 you\r\n",
      "sort: write failed: 'standard output': Broken pipe\r\n",
      "sort: write error\r\n"
     ]
    }
   ],
   "source": [
    "!cat women.txt | python lower.py | python split.py |sort| uniq -c | sort -rn | head -10\n",
    "#with filters #Python lower.py converts everything into lower case and Python split.py splits each word into lines"
   ]
  },
  {
   "cell_type": "code",
   "execution_count": 27,
   "metadata": {
    "collapsed": false
   },
   "outputs": [
    {
     "name": "stdout",
     "output_type": "stream",
     "text": [
      "   1362 jo\r\n",
      "    827 said\r\n",
      "    731 little\r\n",
      "    725 one\r\n",
      "    686 meg\r\n",
      "    652 amy\r\n",
      "    598 laurie\r\n",
      "    591 like\r\n",
      "    550 don\r\n",
      "    509 will\r\n",
      "    467 beth\r\n",
      "    462 good\r\n",
      "    399 now\r\n",
      "    394 go\r\n",
      "    380 old\r\n",
      "    377 mother\r\n",
      "    375 never\r\n",
      "    374 much\r\n",
      "    368 well\r\n",
      "    360 see\r\n",
      "    331 away\r\n",
      "    321 time\r\n",
      "    319 know\r\n",
      "    317 march\r\n",
      "    311 mr\r\n",
      "sort: write failed: 'standard output': Broken pipe\r\n",
      "sort: write error\r\n"
     ]
    }
   ],
   "source": [
    "!cat women.txt | python stopwords.py | python lower.py | python split.py |sort| uniq -c | sort -rn | head -25 #PartB #Python Stopwords converts both \n",
    "#the data sets into lists and deletes the stopwords from the women.txt file"
   ]
  },
  {
   "cell_type": "code",
   "execution_count": null,
   "metadata": {
    "collapsed": true
   },
   "outputs": [],
   "source": []
  }
 ],
 "metadata": {
  "kernelspec": {
   "display_name": "Python 3",
   "language": "python",
   "name": "python3"
  },
  "language_info": {
   "codemirror_mode": {
    "name": "ipython",
    "version": 3
   },
   "file_extension": ".py",
   "mimetype": "text/x-python",
   "name": "python",
   "nbconvert_exporter": "python",
   "pygments_lexer": "ipython3",
   "version": "3.5.2"
  }
 },
 "nbformat": 4,
 "nbformat_minor": 1
}
